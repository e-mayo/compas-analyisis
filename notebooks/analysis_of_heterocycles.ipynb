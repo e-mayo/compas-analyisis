{
 "cells": [
  {
   "cell_type": "markdown",
   "metadata": {},
   "source": [
    "# Structure property relationship analysis\n",
    "\n",
    "This notebook explore the different structure property relationship between the building blocks, atoms and electronic properties in COMPAS-2x"
   ]
  },
  {
   "cell_type": "code",
   "execution_count": 3,
   "metadata": {},
   "outputs": [
    {
     "name": "stdout",
     "output_type": "stream",
     "text": [
      "The autoreload extension is already loaded. To reload it, use:\n",
      "  %reload_ext autoreload\n"
     ]
    }
   ],
   "source": [
    "# Import libraries\n",
    "import pandas as pd\n",
    "import numpy as np\n",
    "from pathlib import Path\n",
    "\n",
    "import seaborn as sns\n",
    "from matplotlib import pyplot as plt\n",
    "\n",
    "from func import calc_atomisation_energy\n",
    "from itertools import product\n",
    "\n",
    "from colors import atoms_colors, heterocycles_colors, kde_kwargs\n",
    "# Reload imported libraries automatically\n",
    "%load_ext autoreload\n",
    "%autoreload 2"
   ]
  },
  {
   "cell_type": "code",
   "execution_count": 4,
   "metadata": {},
   "outputs": [],
   "source": [
    "df = pd.read_csv(\".temp/data/compas-2x.csv\", index_col=0).query('charge == 0').copy()\n",
    "lala = pd.read_csv(\".temp/data/compas-2x-lala.csv\", index_col=0)\n",
    "df = df.merge(lala[['name','lala', 'stereo', 'types']])"
   ]
  },
  {
   "cell_type": "code",
   "execution_count": 5,
   "metadata": {},
   "outputs": [],
   "source": [
    "# electronic properties\n",
    "props = ['homo_corr','lumo_corr','gap_corr','aip_corr','aea_corr','aepe_corr']\n",
    "# group by\n",
    "hue_by = ['cyclobutadiene', 'pyrrole', 'borole', 'furan', 'thiophene',\n",
    "       'dhdiborinine', '14diborinine', 'pyrazine', 'pyridine', 'borinine',\n",
    "       'benzene', 'h', 'c', 'b', 's', 'o', 'n']"
   ]
  },
  {
   "cell_type": "markdown",
   "metadata": {},
   "source": [
    "# Binned average number of atoms in a molecule.\n",
    "\n",
    "Horizontal Bar Chart of Atomic Composition of molecules depending on the value of the electronic properties (homo, lumo, gap, aip, aea, aepe).\n",
    "\n",
    "The horizontal bar chart illustrates the relationship between a specific molecular property *(homo, lumo, gap, aip, aea, aepe)* and atom type.  Each bar represents a bin of property values, with colors indicating different atom types. Data is filtered to include only molecules possessing 9 rings. Bins are created using 30 intervals, and the Y-axis displays mean values of the specified atom type of the molecules within that bin."
   ]
  },
  {
   "cell_type": "code",
   "execution_count": 12,
   "metadata": {},
   "outputs": [
    {
     "data": {
      "image/png": "[encoded data removed]",
      "text/plain": [
       "<Figure size 1000x200 with 1 Axes>"
      ]
     },
     "metadata": {},
     "output_type": "display_data"
    }
   ],
   "source": [
    "for i, (prop, (ring, color)) in enumerate(product(props,atoms_colors.items())):\n",
    "    fig, ax = plt.subplots(figsize=(10, 2))\n",
    "    bin_col = f'{prop.split(\"_\")[0]}_bin'\n",
    "    df[bin_col] = pd.cut(df[prop], bins=30)\n",
    "    histogram = df.query('rings == 9').groupby(bin_col).mean(numeric_only=True)[ring].sort_index()\n",
    "    ys = histogram.values\n",
    "    bins = histogram.index\n",
    "    xs = [str(round(b.right, 2)) for b in bins]\n",
    "    ax.bar(xs, ys, color=color, edgecolor=\"#212121\")\n",
    "    # set x ticks\n",
    "    ax.set_xlabel('')\n",
    "    # hide x axis\n",
    "    ax.set_xticklabels([])\n",
    "    ax.set_yticklabels([])\n",
    "    plt.savefig(f\".temp/figures/hbar-{prop}-{ring}.png\")\n",
    "    plt.savefig(f\".temp/figures/hbar-{prop}-{ring}.svg\")\n",
    "    # plt.close()\n",
    "    break\n",
    "\n",
    "    fig.suptitle(f\"Color by bblock\")\n",
    "    plt.tight_layout()"
   ]
  },
  {
   "cell_type": "markdown",
   "metadata": {},
   "source": [
    "# Binned average number of atoms in a molecule.\n",
    "\n",
    "Horizontal Bar Chart of heterocyclic Composition of molecules depending on the value of the electronic properties (homo, lumo, gap, aip, aea, aepe).\n",
    "\n",
    "The horizontal bar chart illustrates the relationship between a specific molecular property *(homo, lumo, gap, aip, aea, aepe)* and heterocycle type.  Each bar represents a bin of property values, with colors indicating different heterocycle. Data is filtered to include only molecules possessing 9 rings. Bins are created using 30 intervals, and the Y-axis displays mean values of the number heterocycle of the molecules within that bin."
   ]
  },
  {
   "cell_type": "code",
   "execution_count": 13,
   "metadata": {},
   "outputs": [
    {
     "data": {
      "image/png": "[encoded data removed]",
      "text/plain": [
       "<Figure size 1000x200 with 1 Axes>"
      ]
     },
     "metadata": {},
     "output_type": "display_data"
    }
   ],
   "source": [
    "for i, (prop, (ring, color)) in enumerate(product(props,heterocycles_colors.items())):\n",
    "    fig, ax = plt.subplots(figsize=(10, 2))\n",
    "    bin_col = f'{prop.split(\"_\")[0]}_bin'\n",
    "    df[bin_col] = pd.cut(df[prop], bins=30)\n",
    "    histogram = df.query('rings == 9').groupby(bin_col).mean(numeric_only=True)[ring].sort_index()\n",
    "    ys = histogram.values\n",
    "    bins = histogram.index\n",
    "    xs = [str(round(b.right, 2)) for b in bins]\n",
    "    ax.bar(xs, ys, color=color, edgecolor=\"#212121\")\n",
    "    # set x ticks\n",
    "    ax.set_xlabel('')\n",
    "    # hide x axis\n",
    "    ax.set_xticklabels([])\n",
    "    ax.set_yticklabels([])\n",
    "    plt.savefig(f\".temp/figures/hbar-{prop}-{ring}.png\")\n",
    "    plt.savefig(f\".temp/figures/hbar-{prop}-{ring}.svg\")\n",
    "    # plt.close()\n",
    "    break\n",
    "\n",
    "    fig.suptitle(f\"Color by bblock\")\n",
    "    plt.tight_layout()"
   ]
  }
 ],
 "metadata": {
  "kernelspec": {
   "display_name": "chem_lab",
   "language": "python",
   "name": "python3"
  },
  "language_info": {
   "codemirror_mode": {
    "name": "ipython",
    "version": 3
   },
   "file_extension": ".py",
   "mimetype": "text/x-python",
   "name": "python",
   "nbconvert_exporter": "python",
   "pygments_lexer": "ipython3",
   "version": "3.8.15"
  },
  "orig_nbformat": 4
 },
 "nbformat": 4,
 "nbformat_minor": 2
}
