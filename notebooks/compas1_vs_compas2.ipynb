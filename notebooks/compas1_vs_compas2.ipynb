{
 "cells": [
  {
   "cell_type": "markdown",
   "metadata": {},
   "source": [
    "# Comparing COMPAS-1x and COMPAS-2x\n",
    "This notebook compares the COMPAS-1 and COMPAS-2 datasets. It is used to highlight the major differences between both datasets.\n",
    "\n",
    "COMPAS-1 is comprehend solely of PAHs made of cata-condensed benzene rings, while COMPAS-2 contains hPAHs made of cata-condensed benzene and 9 heterocyclic and cyclobutadiene. The heterocyclic rings are made of 5 and 6-membered rings containing one or two heteroatoms (N, O, S, and B)."
   ]
  },
  {
   "cell_type": "code",
   "execution_count": 18,
   "metadata": {},
   "outputs": [],
   "source": [
    "# Import libraries\n",
    "import pandas as pd\n",
    "import numpy as np\n",
    "from pathlib import Path"
   ]
  },
  {
   "cell_type": "code",
   "execution_count": 14,
   "metadata": {},
   "outputs": [],
   "source": [
    "# Import data\n",
    "compas_1 = pd.read_csv('.temp/data/compas-1x.csv', index_col=0)\n",
    "compas_2 = pd.read_csv(\".temp/data/compas-2x.csv\", index_col=0)"
   ]
  },
  {
   "cell_type": "code",
   "execution_count": 17,
   "metadata": {},
   "outputs": [
    {
     "name": "stdout",
     "output_type": "stream",
     "text": [
      "COMPAS-1: (33944, 33)\n",
      "COMPAS-2: (1573176, 45)\n",
      "COMPAS-2 not in COMPAS-1: {'pyrazine', 'pyridine', 'thiophene', 'benzene', 'borinine', 'borole', 'cyclobutadiene', '14diborinine', 'furan', 'pyrrole', 'dhdiborinine', 'zero_point_energy'}\n"
     ]
    }
   ],
   "source": [
    "# Print shape of data\n",
    "print(\"COMPAS-1:\", 33944.shape)\n",
    "print(\"COMPAS-2:\", compas_2.shape)\n",
    "\n",
    "# Print column names\n",
    "print(\"COMPAS-2 not in COMPAS-1:\", set(compas_2.columns) - set(compas_1.columns))"
   ]
  },
  {
   "cell_type": "code",
   "execution_count": 21,
   "metadata": {},
   "outputs": [],
   "source": [
    "# get compas 2 data with charge 0 only\n",
    "compas_2 = compas_2.query('charge == 0').copy()"
   ]
  }
 ],
 "metadata": {
  "kernelspec": {
   "display_name": "chem_lab",
   "language": "python",
   "name": "python3"
  },
  "language_info": {
   "codemirror_mode": {
    "name": "ipython",
    "version": 3
   },
   "file_extension": ".py",
   "mimetype": "text/x-python",
   "name": "python",
   "nbconvert_exporter": "python",
   "pygments_lexer": "ipython3",
   "version": "3.8.15"
  },
  "orig_nbformat": 4
 },
 "nbformat": 4,
 "nbformat_minor": 2
}
